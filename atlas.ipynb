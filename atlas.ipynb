{
 "cells": [
  {
   "cell_type": "code",
   "execution_count": 1,
   "metadata": {},
   "outputs": [],
   "source": [
    "from telescope import SSHTelescope"
   ]
  },
  {
   "cell_type": "code",
   "execution_count": 2,
   "metadata": {},
   "outputs": [
    {
     "name": "stderr",
     "output_type": "stream",
     "text": [
      "2018-02-03 20:40:02 [INFO] TELESCOPE: Successfully connected to the telescope control server\n",
      "2018-02-03 20:40:02 [WARNING] TELESCOPE: Unable to connect to MQTT broker: [Errno 111] Connection refused\n"
     ]
    }
   ],
   "source": [
    "t = SSHTelescope()"
   ]
  },
  {
   "cell_type": "code",
   "execution_count": 8,
   "metadata": {},
   "outputs": [
    {
     "name": "stderr",
     "output_type": "stream",
     "text": [
      "2018-02-03 19:42:12 [INFO] TELESCOPE: Executing: tx ccd_status\n",
      "2018-02-03 19:42:13 [INFO] TELESCOPE: Result: done ccd_status nrow=2048 ncol=2048 readtime=8 tchip=-20.0 setpoint=-20.0 name=ProLine_PL230 darktime=3575 pixel=15.0 rot=180 drive=87\n"
     ]
    },
    {
     "data": {
      "text/plain": [
       "True"
      ]
     },
     "execution_count": 8,
     "metadata": {},
     "output_type": "execute_result"
    }
   ],
   "source": [
    "t.chip_temp_ok()"
   ]
  },
  {
   "cell_type": "code",
   "execution_count": 5,
   "metadata": {},
   "outputs": [
    {
     "name": "stderr",
     "output_type": "stream",
     "text": [
      "2018-01-18 21:15:37 [INFO] TELESCOPE: Executing: ccd cool\n"
     ]
    },
    {
     "data": {
      "text/plain": [
       "True"
      ]
     },
     "execution_count": 5,
     "metadata": {},
     "output_type": "execute_result"
    }
   ],
   "source": [
    "t.cool_ccd()"
   ]
  },
  {
   "cell_type": "code",
   "execution_count": 11,
   "metadata": {
    "scrolled": true
   },
   "outputs": [
    {
     "name": "stderr",
     "output_type": "stream",
     "text": [
      "2018-02-03 19:42:54 [INFO] TELESCOPE: Executing: tx track off\n",
      "2018-02-03 19:42:55 [INFO] TELESCOPE: Result: done track ha=0.0000 dec=0.0000\n"
     ]
    },
    {
     "data": {
      "text/plain": [
       "True"
      ]
     },
     "execution_count": 11,
     "metadata": {},
     "output_type": "execute_result"
    }
   ],
   "source": [
    "t.disable_tracking()"
   ]
  },
  {
   "cell_type": "code",
   "execution_count": 7,
   "metadata": {},
   "outputs": [
    {
     "name": "stderr",
     "output_type": "stream",
     "text": [
      "2018-01-18 21:15:44 [INFO] TELESCOPE: Executing: tx dome put=300\n",
      "2018-01-18 21:15:55 [INFO] TELESCOPE: Result: done dome az=301.3 slewing=0\n"
     ]
    },
    {
     "data": {
      "text/plain": [
       "True"
      ]
     },
     "execution_count": 7,
     "metadata": {},
     "output_type": "execute_result"
    }
   ],
   "source": [
    "t.move_dome(300)"
   ]
  },
  {
   "cell_type": "code",
   "execution_count": 10,
   "metadata": {},
   "outputs": [
    {
     "name": "stderr",
     "output_type": "stream",
     "text": [
      "2018-02-03 19:42:51 [INFO] TELESCOPE: Executing: tx track on\n",
      "2018-02-03 19:42:52 [INFO] TELESCOPE: Result: done track ha=15.0410 dec=0.0000\n"
     ]
    },
    {
     "data": {
      "text/plain": [
       "True"
      ]
     },
     "execution_count": 10,
     "metadata": {},
     "output_type": "execute_result"
    }
   ],
   "source": [
    "t.enable_tracking()"
   ]
  },
  {
   "cell_type": "code",
   "execution_count": 5,
   "metadata": {},
   "outputs": [
    {
     "name": "stderr",
     "output_type": "stream",
     "text": [
      "2018-01-24 21:16:29 [INFO] TELESCOPE: Executing: tx home dome\n",
      "2018-01-24 21:16:41 [INFO] TELESCOPE: Result: done home az_hit=13914.20 rem=234.20 az\n"
     ]
    },
    {
     "data": {
      "text/plain": [
       "True"
      ]
     },
     "execution_count": 5,
     "metadata": {},
     "output_type": "execute_result"
    }
   ],
   "source": [
    "t.home_dome()"
   ]
  },
  {
   "cell_type": "code",
   "execution_count": 6,
   "metadata": {},
   "outputs": [
    {
     "name": "stderr",
     "output_type": "stream",
     "text": [
      "2018-01-24 21:16:42 [INFO] TELESCOPE: Executing: tx home ha\n",
      "2018-01-24 21:16:46 [INFO] TELESCOPE: Result: ERROR home 'axis=HA fatal following error'\n"
     ]
    },
    {
     "data": {
      "text/plain": [
       "False"
      ]
     },
     "execution_count": 6,
     "metadata": {},
     "output_type": "execute_result"
    }
   ],
   "source": [
    "t.home_ha()"
   ]
  },
  {
   "cell_type": "code",
   "execution_count": 7,
   "metadata": {},
   "outputs": [
    {
     "name": "stderr",
     "output_type": "stream",
     "text": [
      "2018-01-24 21:16:53 [INFO] TELESCOPE: Executing: tx home dec\n",
      "2018-01-24 21:17:02 [INFO] TELESCOPE: Result: done home dec_hit=3.5612 dec\n"
     ]
    },
    {
     "data": {
      "text/plain": [
       "True"
      ]
     },
     "execution_count": 7,
     "metadata": {},
     "output_type": "execute_result"
    }
   ],
   "source": [
    "t.home_dec()"
   ]
  },
  {
   "cell_type": "code",
   "execution_count": 5,
   "metadata": {},
   "outputs": [
    {
     "name": "stderr",
     "output_type": "stream",
     "text": [
      "2018-02-03 19:09:33 [INFO] TELESCOPE: Executing: tx home dome\n",
      "2018-02-03 19:09:43 [INFO] TELESCOPE: Result: done home az_hit=18249.74 rem=249.74 az\n",
      "2018-02-03 19:09:43 [INFO] TELESCOPE: Executing: tx home ha\n",
      "2018-02-03 19:09:47 [INFO] TELESCOPE: Result: done home ha_hit=-25.9488 ha\n",
      "2018-02-03 19:09:47 [INFO] TELESCOPE: Executing: tx home dec\n",
      "2018-02-03 19:09:56 [INFO] TELESCOPE: Result: done home dec_hit=-1.2388 dec\n"
     ]
    },
    {
     "data": {
      "text/plain": [
       "True"
      ]
     },
     "execution_count": 5,
     "metadata": {},
     "output_type": "execute_result"
    }
   ],
   "source": [
    "t.calibrate_motors()"
   ]
  },
  {
   "cell_type": "code",
   "execution_count": 3,
   "metadata": {},
   "outputs": [
    {
     "name": "stderr",
     "output_type": "stream",
     "text": [
      "2018-02-03 20:40:08 [INFO] TELESCOPE: Executing: tx taux\n",
      "2018-02-03 20:40:08 [INFO] TELESCOPE: Result: done taux ovolts=3.019 irvolts=0.228 cloud=0.21 rain=0 dew=2.89\n",
      "2018-02-03 20:40:08 [INFO] TELESCOPE: Executing: tx taux\n",
      "2018-02-03 20:40:09 [INFO] TELESCOPE: Result: done taux ovolts=3.019 irvolts=0.228 cloud=0.21 rain=0 dew=2.89\n",
      "2018-02-03 20:40:09 [INFO] TELESCOPE: Executing: tx taux\n",
      "2018-02-03 20:40:10 [INFO] TELESCOPE: Result: done taux ovolts=3.019 irvolts=0.228 cloud=0.21 rain=0 dew=2.89\n",
      "2018-02-03 20:40:10 [INFO] TELESCOPE: Executing: sun\n",
      "2018-02-03 20:40:11 [INFO] TELESCOPE: Result: 21:10:35.52 -16:16:48.5 2018.093 sun alt=-1.8\n",
      "2018-02-03 20:40:11 [INFO] TELESCOPE: Executing: moon\n",
      "2018-02-03 20:40:11 [INFO] TELESCOPE: Result: 12:16:00.97 +02:05:42.6 2018.093 moon alt=-39.6 phase=0.74 lunation=1176\n",
      "2018-02-03 20:40:11 [INFO] TELESCOPE: Weather is currently good. Opening the dome...\n",
      "2018-02-03 20:40:11 [INFO] TELESCOPE: Executing: tx slit\n",
      "2018-02-03 20:40:12 [INFO] TELESCOPE: Result: done slit slit=closed\n",
      "2018-02-03 20:40:12 [INFO] TELESCOPE: Executing: tx taux\n",
      "2018-02-03 20:40:13 [INFO] TELESCOPE: Result: done taux ovolts=3.019 irvolts=0.228 cloud=0.21 rain=0 dew=2.89\n",
      "2018-02-03 20:40:13 [INFO] TELESCOPE: Executing: tx taux\n",
      "2018-02-03 20:40:14 [INFO] TELESCOPE: Result: done taux ovolts=3.019 irvolts=0.228 cloud=0.21 rain=0 dew=2.89\n",
      "2018-02-03 20:40:14 [INFO] TELESCOPE: Executing: tx taux\n",
      "2018-02-03 20:40:14 [INFO] TELESCOPE: Result: done taux ovolts=3.019 irvolts=0.228 cloud=0.21 rain=0 dew=2.89\n",
      "2018-02-03 20:40:14 [INFO] TELESCOPE: Executing: sun\n",
      "2018-02-03 20:40:15 [INFO] TELESCOPE: Result: 21:10:35.53 -16:16:48.4 2018.093 sun alt=-1.8\n",
      "2018-02-03 20:40:15 [INFO] TELESCOPE: Executing: moon\n",
      "2018-02-03 20:40:16 [INFO] TELESCOPE: Result: 12:16:01.16 +02:05:41.8 2018.093 moon alt=-39.6 phase=0.74 lunation=1176\n",
      "2018-02-03 20:40:16 [INFO] TELESCOPE: Executing: tx slit\n",
      "2018-02-03 20:40:17 [INFO] TELESCOPE: Result: done slit slit=closed\n",
      "2018-02-03 20:40:17 [INFO] TELESCOPE: Executing: tx slit\n",
      "2018-02-03 20:40:17 [INFO] TELESCOPE: Result: done slit slit=closed\n",
      "2018-02-03 20:40:17 [INFO] TELESCOPE: Executing: tx taux\n",
      "2018-02-03 20:40:18 [INFO] TELESCOPE: Result: done taux ovolts=3.019 irvolts=0.228 cloud=0.21 rain=0 dew=2.89\n",
      "2018-02-03 20:40:18 [INFO] TELESCOPE: Executing: tx taux\n",
      "2018-02-03 20:40:19 [INFO] TELESCOPE: Result: done taux ovolts=3.019 irvolts=0.228 cloud=0.21 rain=0 dew=2.89\n",
      "2018-02-03 20:40:19 [INFO] TELESCOPE: Executing: tx taux\n",
      "2018-02-03 20:40:20 [INFO] TELESCOPE: Result: done taux ovolts=3.019 irvolts=0.228 cloud=0.21 rain=0 dew=2.89\n",
      "2018-02-03 20:40:20 [INFO] TELESCOPE: Executing: sun\n",
      "2018-02-03 20:40:21 [INFO] TELESCOPE: Result: 21:10:35.55 -16:16:48.4 2018.093 sun alt=-1.8\n",
      "2018-02-03 20:40:21 [INFO] TELESCOPE: Executing: moon\n",
      "2018-02-03 20:40:22 [INFO] TELESCOPE: Result: 12:16:01.44 +02:05:40.6 2018.093 moon alt=-39.6 phase=0.74 lunation=1176\n",
      "2018-02-03 20:40:22 [INFO] TELESCOPE: Executing: tx slit\n",
      "2018-02-03 20:40:22 [INFO] TELESCOPE: Result: done slit slit=closed\n",
      "2018-02-03 20:40:22 [INFO] TELESCOPE: Executing: tx ccd_status\n",
      "2018-02-03 20:40:23 [INFO] TELESCOPE: Result: done ccd_status nrow=2048 ncol=2048 readtime=8 tchip=-20.0 setpoint=-20.0 name=ProLine_PL230 darktime=7065 pixel=15.0 rot=180 drive=82\n",
      "2018-02-03 20:40:23 [INFO] TELESCOPE: Executing: tx track off\n",
      "2018-02-03 20:40:24 [INFO] TELESCOPE: Result: done track ha=0.0000 dec=0.0000\n",
      "2018-02-03 20:40:24 [INFO] TELESCOPE: Executing: \n",
      "2018-02-03 20:40:25 [INFO] TELESCOPE: Executing: tx slit\n",
      "2018-02-03 20:40:25 [INFO] TELESCOPE: Result: done slit slit=closed\n",
      "2018-02-03 20:40:25 [WARNING] TELESCOPE: Slit must be opened before calling keep_open()\n",
      "2018-02-03 20:40:25 [ERROR] TELESCOPE: There was an error setting up the telescope for sky flats. Quitting...\n"
     ]
    },
    {
     "data": {
      "text/plain": [
       "False"
      ]
     },
     "execution_count": 3,
     "metadata": {},
     "output_type": "execute_result"
    }
   ],
   "source": [
    "t.take_flats()"
   ]
  },
  {
   "cell_type": "code",
   "execution_count": null,
   "metadata": {
    "collapsed": true
   },
   "outputs": [],
   "source": []
  }
 ],
 "metadata": {
  "kernelspec": {
   "display_name": "Python 3",
   "language": "python",
   "name": "python3"
  },
  "language_info": {
   "codemirror_mode": {
    "name": "ipython",
    "version": 3
   },
   "file_extension": ".py",
   "mimetype": "text/x-python",
   "name": "python",
   "nbconvert_exporter": "python",
   "pygments_lexer": "ipython3",
   "version": "3.6.3"
  }
 },
 "nbformat": 4,
 "nbformat_minor": 2
}
